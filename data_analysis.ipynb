{
 "cells": [
  {
   "cell_type": "code",
   "execution_count": 62,
   "metadata": {},
   "outputs": [],
   "source": [
    "import numpy as np\n",
    "import matplotlib.pyplot as plt\n",
    "import os"
   ]
  },
  {
   "cell_type": "code",
   "execution_count": 80,
   "metadata": {},
   "outputs": [],
   "source": [
    "#remove first two lines from txt files, only run once when all data is collected \n",
    "for filename in os.listdir('./SingleGanglion/datacone'):\n",
    "    if filename not in os.listdir('./SingleGanglion/dataproccone') and filename[-4:]=='.txt':\n",
    "        with open('./SingleGanglion/datacone/'+filename, 'r') as fin:\n",
    "            data = fin.read().splitlines(True)\n",
    "        with open('./SingleGanglion/dataproccone/'+filename, 'w') as fout:\n",
    "            fout.writelines(data[2:])\n"
   ]
  },
  {
   "cell_type": "code",
   "execution_count": 72,
   "metadata": {},
   "outputs": [
    {
     "name": "stdout",
     "output_type": "stream",
     "text": [
      "0.05runCBP.txt\n",
      "0.003runCBP.txt\n",
      "0.01runCBP.txt\n",
      "0.002runCBP.txt\n"
     ]
    }
   ],
   "source": [
    "for filename in os.listdir('./SingleGanglion/datacone'):\n",
    "    print(filename)"
   ]
  },
  {
   "cell_type": "code",
   "execution_count": 18,
   "metadata": {},
   "outputs": [
    {
     "data": {
      "text/plain": [
       "3"
      ]
     },
     "execution_count": 18,
     "metadata": {},
     "output_type": "execute_result"
    }
   ],
   "source": []
  },
  {
   "cell_type": "code",
   "execution_count": 81,
   "metadata": {},
   "outputs": [],
   "source": [
    "rates = np.zeros((len(os.listdir('./SingleGanglion/dataproccone')),2))\n",
    "\n",
    "for j, filename in enumerate(os.listdir('./SingleGanglion/dataproccone')):\n",
    "    if filename[-4:]=='.txt':\n",
    "        f = np.loadtxt('./SingleGanglion/dataproccone/'+filename)\n",
    "        x = f[:,0]\n",
    "        y = f[:,1]\n",
    "\n",
    "        count = 0\n",
    "\n",
    "        for i in range(len(x)):\n",
    "            if x[i]>=400 and x[i]<=1200:\n",
    "                if y[i]>y[i-1] and y[i]>y[i+1] and y[i]>10:\n",
    "                    count +=1\n",
    "        rates[j,0]= float(filename[:-10])\n",
    "        rates[j,1]= count/0.8\n",
    "    \n",
    "rates = np.sort(rates, axis=0)"
   ]
  },
  {
   "cell_type": "code",
   "execution_count": null,
   "metadata": {},
   "outputs": [],
   "source": []
  },
  {
   "cell_type": "code",
   "execution_count": 82,
   "metadata": {},
   "outputs": [
    {
     "name": "stdout",
     "output_type": "stream",
     "text": [
      "[[0.000e+00 0.000e+00]\n",
      " [2.000e-03 0.000e+00]\n",
      " [3.000e-03 1.250e+00]\n",
      " [1.000e-02 2.375e+01]\n",
      " [5.000e-02 6.250e+01]\n",
      " [1.000e-01 1.250e+02]]\n"
     ]
    }
   ],
   "source": [
    "print(rates)"
   ]
  },
  {
   "cell_type": "code",
   "execution_count": 83,
   "metadata": {},
   "outputs": [
    {
     "data": {
      "image/png": "[encoded data removed]",
      "text/plain": [
       "<Figure size 432x288 with 1 Axes>"
      ]
     },
     "metadata": {
      "needs_background": "light"
     },
     "output_type": "display_data"
    }
   ],
   "source": [
    "plt.plot(rates[1:,0], rates[1:,1])\n",
    "plt.show()"
   ]
  },
  {
   "cell_type": "code",
   "execution_count": null,
   "metadata": {},
   "outputs": [],
   "source": []
  }
 ],
 "metadata": {
  "kernelspec": {
   "display_name": "Python 3",
   "language": "python",
   "name": "python3"
  },
  "language_info": {
   "codemirror_mode": {
    "name": "ipython",
    "version": 3
   },
   "file_extension": ".py",
   "mimetype": "text/x-python",
   "name": "python",
   "nbconvert_exporter": "python",
   "pygments_lexer": "ipython3",
   "version": "3.7.3"
  }
 },
 "nbformat": 4,
 "nbformat_minor": 2
}
